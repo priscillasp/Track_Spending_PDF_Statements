{
 "cells": [
  {
   "cell_type": "code",
   "execution_count": null,
   "metadata": {},
   "outputs": [],
   "source": [
    "import pandas as pd\n",
    "import matplotlib.pyplot as plt\n",
    "import seaborn as sns"
   ]
  },
  {
   "cell_type": "code",
   "execution_count": null,
   "metadata": {},
   "outputs": [],
   "source": [
    "# Load your dataset\n",
    "df = pd.read_csv('/Users/priscillamorales/Desktop/CodeSpace/Finances/master_transaction.csv') "
   ]
  },
  {
   "cell_type": "code",
   "execution_count": null,
   "metadata": {},
   "outputs": [],
   "source": [
    "# Filter for expenses (negative amounts)\n",
    "expenses_df = df[df['Amount'] < 0]\n",
    "\n",
    "# Summarize spending by category\n",
    "summary_df = expenses_df.groupby('Category')['Amount'].sum().reset_index()\n"
   ]
  },
  {
   "cell_type": "code",
   "execution_count": null,
   "metadata": {},
   "outputs": [],
   "source": [
    "# Plot Spending by Category\n",
    "plt.figure(figsize=(10, 6))\n",
    "sns.barplot(x='Amount', y='Category', data=summary_df, palette='viridis')\n",
    "plt.title('Total Spending by Category')\n",
    "plt.xlabel('Amount Spent')\n",
    "plt.ylabel('Category')\n",
    "plt.show()"
   ]
  },
  {
   "cell_type": "code",
   "execution_count": null,
   "metadata": {},
   "outputs": [],
   "source": [
    "# Monthly Spending Trend\n",
    "expenses_df['Date'] = pd.to_datetime(expenses_df['Date'])\n",
    "expenses_df.set_index('Date', inplace=True)\n",
    "monthly_spending = expenses_df.resample('M')['Amount'].sum()\n",
    "\n",
    "plt.figure(figsize=(12, 6))\n",
    "monthly_spending.plot(kind='bar', color='skyblue')\n",
    "plt.title('Monthly Spending Trend')\n",
    "plt.xlabel('Month')\n",
    "plt.ylabel('Amount Spent')\n",
    "plt.show()\n"
   ]
  },
  {
   "cell_type": "code",
   "execution_count": null,
   "metadata": {},
   "outputs": [],
   "source": [
    "# Top 10 Largest Expenses\n",
    "top_expenses = expenses_df.nsmallest(10, 'Amount')\n",
    "\n",
    "plt.figure(figsize=(12, 6))\n",
    "sns.barplot(x='Amount', y='Merchant', data=top_expenses, palette='inferno')\n",
    "plt.title('Top 10 Largest Expenses')\n",
    "plt.xlabel('Amount Spent')\n",
    "plt.ylabel('Description')\n",
    "plt.show()"
   ]
  },
  {
   "cell_type": "code",
   "execution_count": null,
   "metadata": {},
   "outputs": [],
   "source": [
    "# Summary Statistics\n",
    "total_spending = expenses_df['Amount'].sum()\n",
    "average_spending = expenses_df['Amount'].mean()\n",
    "highest_single_expense = expenses_df['Amount'].min()\n",
    "\n",
    "print(f\"Total Spending: ${total_spending:.2f}\")\n",
    "print(f\"Average Spending: ${average_spending:.2f}\")\n",
    "print(f\"Highest Single Expense: ${highest_single_expense:.2f}\")\n"
   ]
  }
 ],
 "metadata": {
  "kernelspec": {
   "display_name": "base",
   "language": "python",
   "name": "python3"
  },
  "language_info": {
   "codemirror_mode": {
    "name": "ipython",
    "version": 3
   },
   "file_extension": ".py",
   "mimetype": "text/x-python",
   "name": "python",
   "nbconvert_exporter": "python",
   "pygments_lexer": "ipython3",
   "version": "3.11.8"
  }
 },
 "nbformat": 4,
 "nbformat_minor": 2
}
